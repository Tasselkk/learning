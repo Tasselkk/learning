{
 "cells": [
  {
   "cell_type": "markdown",
   "id": "ca58cfec-57ab-4958-b3fb-8a38f6d6fd71",
   "metadata": {},
   "source": [
    "# Python 学习记录"
   ]
  },
  {
   "cell_type": "markdown",
   "id": "83e620dc-9513-49f9-a4e1-297ffd3d183d",
   "metadata": {
    "jp-MarkdownHeadingCollapsed": true
   },
   "source": [
    "## 1. 语法区别总结(与C)"
   ]
  },
  {
   "cell_type": "markdown",
   "id": "bb4df578-d9fd-43e7-8e6f-181b04073298",
   "metadata": {},
   "source": [
    "1. python 中没有自增、自减运算符++、--\n",
    "2. 逻辑运算符是关键字: or、and、not\n",
    "3. 关键字 `pass` 起占位作用，用于什么都不做但需要占位，或者待实现的地方\n",
    "4. 身份运算符 is、is not 用于比较两个对象的存储单元是否映射到同一对象，例如："
   ]
  },
  {
   "cell_type": "code",
   "execution_count": 131,
   "id": "fa7e2ece-1811-4e2c-aa20-a918a7ff7e64",
   "metadata": {},
   "outputs": [
    {
     "name": "stdout",
     "output_type": "stream",
     "text": [
      "id(a) =  2504039688496\n",
      "id(b) =  2504039688496\n",
      "id(a) == id(b): True\n",
      "True\n"
     ]
    }
   ],
   "source": [
    "a = 1\n",
    "b=a\n",
    "print('id(a) = ', id(a))\n",
    "print('id(b) = ', id(b)) # 与上一行一致\n",
    "print('id(a) == id(b):', id(a) == id(b))\n",
    "print(a is b) # 输出True"
   ]
  },
  {
   "cell_type": "markdown",
   "id": "f302f0d9-7e11-4d47-b3a2-0f55088bd318",
   "metadata": {},
   "source": [
    "+ 特殊情况：python中存在小整数池，即(-5 ~ 256)之间的数映射到同一个对象上，例："
   ]
  },
  {
   "cell_type": "code",
   "execution_count": null,
   "id": "75f32b80-aabc-4714-bea5-1b5f3e9ff970",
   "metadata": {},
   "outputs": [],
   "source": [
    "a = 1  \n",
    "b = 1  \n",
    "print(id(a) == id(b))  # 输出: True  \n",
    "  \n",
    "# 尝试一个不在缓存范围内的整数  \n",
    "c = 257  \n",
    "d = 257  \n",
    "print(id(c) == id(d))  # 输出: False，因为257不在小整数缓存范围内"
   ]
  },
  {
   "cell_type": "markdown",
   "id": "f613ffd4-dbc8-403c-b9f5-ec2efe81363c",
   "metadata": {},
   "source": [
    "## 2. 基本数据类型\n",
    "在Python中，有几种基本的数据类型，这些类型分为数字类型、序列类型、映射类型、集合类型以及布尔类型。以下是Python中的基本数据类型及其简要描述："
   ]
  },
  {
   "cell_type": "markdown",
   "id": "a9b1e512-6adc-4d10-a40e-101d0f001792",
   "metadata": {
    "jp-MarkdownHeadingCollapsed": true
   },
   "source": [
    "### 2.1 **数字类型（Numeric Types）**：\n",
    "   - `int`：整数类型，如 `10`, `-5`。\n",
    "   - `float`：浮点类型，如 `3.14`, `-2.71`。\n",
    "   - `complex`：复数类型，如 `1+2j`，其中 `j` 是虚数单位。"
   ]
  },
  {
   "cell_type": "code",
   "execution_count": null,
   "id": "c8d915e2-6df7-491f-aa95-92d43d4b830a",
   "metadata": {},
   "outputs": [],
   "source": [
    "print(type(1))\n",
    "print(type(3.14))\n",
    "print(type(1 + 1j))"
   ]
  },
  {
   "cell_type": "code",
   "execution_count": null,
   "id": "8252d338-4e63-4d42-bded-bc15435980ef",
   "metadata": {},
   "outputs": [],
   "source": [
    "数值类型是不允许改变的，如果改变数字数据类型的值，将重新分配内存空间:意思是对数值类型重新赋值，会改变其地址，例："
   ]
  },
  {
   "cell_type": "code",
   "execution_count": null,
   "id": "f010a7f6-aba7-433d-aa7d-674f0a629e4d",
   "metadata": {},
   "outputs": [],
   "source": [
    "a = 1\n",
    "print(id(a))\n",
    "a = 2\n",
    "print(id(a))\n",
    "# 可以看到,a改变值后，地址变了。（不像C语言，变量改变值后，变量本身的地址不变）不允许改变是这个意思"
   ]
  },
  {
   "cell_type": "markdown",
   "id": "220615d5-3a3d-4339-8e25-5fe3ba366a89",
   "metadata": {},
   "source": [
    "### 2.2 **序列类型（Sequence Types）**："
   ]
  },
  {
   "cell_type": "markdown",
   "id": "721fd050-13b7-4d0e-9ec8-9d7ae257b5d7",
   "metadata": {
    "jp-MarkdownHeadingCollapsed": true
   },
   "source": [
    "#### 2.2.1 字符串类型\n",
    "- 用于表示文本，如 `\"hello\"`, `'world'`。\n",
    "- 字符串是不可变的（immutable）。但可以相加和相乘\n",
    "- 支持切片[start : end : step]用法，从start到end的前一个（注意不包括end），步长step提取值。start、end、step均可以省略，start/end默认0，step默认1"
   ]
  },
  {
   "cell_type": "code",
   "execution_count": 101,
   "id": "9d3c85a1-505e-4246-b99c-32839c9efe76",
   "metadata": {},
   "outputs": [
    {
     "name": "stdout",
     "output_type": "stream",
     "text": [
      "raw: abcdefg\n",
      "eg0: f\n",
      "eg1: abcdef\n",
      "eg2: g\n",
      "eg3: aceg\n",
      "abcdefgabcdefg\n",
      "abcdefgabcdefgabcdefgabcdefgabcdefgabcdefg\n"
     ]
    }
   ],
   "source": [
    "str = \"abcdefg\"\n",
    "print('raw:', str)\n",
    "print('eg0:', str[-2]) # 打印带下标的某个字符下标可以为负\n",
    "print('eg1:', str[:-1]) # 切片,从头到倒数第二个\n",
    "print('eg2:', str[-1:]) # 切片，倒数第一个\n",
    "print('eg3:', str[::2]) # 切片从头到尾step为2\n",
    "\n",
    "# 字符串是不可变的.意思和数值类型一样，改变字符串类型的值会重新分配内存空间:\n",
    "# 不能做 str[0] = 'z'\n",
    "str += str # 相加\n",
    "print(str)\n",
    "str *= 3\n",
    "print(str)"
   ]
  },
  {
   "cell_type": "markdown",
   "id": "d09919c8-9cf6-4295-820a-888ae49bb79d",
   "metadata": {},
   "source": [
    "f-string 和 r-string"
   ]
  },
  {
   "cell_type": "code",
   "execution_count": null,
   "id": "4db89006-a140-4655-a519-1d4d3e8a11c7",
   "metadata": {},
   "outputs": [],
   "source": [
    "# f-string\n",
    "name = \"小明\"\n",
    "age = 10\n",
    "print (\"我叫 %s 今年 %d 岁!\" %(name, age), f'明年{age + 1}岁') # 可以在字符串里使用表达式\n",
    "# r-string\n",
    "print('这是一个普通字符串，转义字符\\n转义')\n",
    "print(r'这是一个原始字符串，转义字符\\n不转义')"
   ]
  },
  {
   "cell_type": "markdown",
   "id": "8dff6162-acb9-447a-8783-917ea0721605",
   "metadata": {
    "jp-MarkdownHeadingCollapsed": true
   },
   "source": [
    "#### 2.2.2 列表类型\n",
    "- 用于表示有序的元素集合，如 `[1, 2, 3]`, `[\"a\", \"b\", \"c\"]`。\n",
    "- 列表是可变的（mutable）。\n",
    "- 空列表：list[]"
   ]
  },
  {
   "cell_type": "code",
   "execution_count": null,
   "id": "ea4bc0fe-134e-49b5-86b3-0c4af790f910",
   "metadata": {},
   "outputs": [],
   "source": [
    "# 列表支持切片\n",
    "list = [1, 2, 3, 'a', 'b', 'c', [4, 5, 6]]\n",
    "print(list[3])\n",
    "list[6][1] = 8\n",
    "print(list[6])\n",
    "print(list[3:6])"
   ]
  },
  {
   "cell_type": "code",
   "execution_count": null,
   "id": "49207652-19a9-45e4-9d75-000bcab625c3",
   "metadata": {},
   "outputs": [],
   "source": [
    "# 列表可变\n",
    "list = [1,2,3]\n",
    "print(id(list))\n",
    "list[0] = 'a'\n",
    "print(id(list))"
   ]
  },
  {
   "cell_type": "code",
   "execution_count": 87,
   "id": "434c89b6-b4f4-4cce-8cbe-819b9ad2c780",
   "metadata": {},
   "outputs": [
    {
     "name": "stdout",
     "output_type": "stream",
     "text": [
      "raw list: [1, 2, 3, 4]\n",
      "after append: [1, 2, 3, 4, 5]\n",
      "after pop: [1, 2, 3, 4] pop: 5\n",
      "after modify: [0, 2, 3, 4]\n",
      "list[1] =  2\n"
     ]
    }
   ],
   "source": [
    "# 列表增删改查\n",
    "list = [1,2,3,4]\n",
    "print('raw list:', list)\n",
    "# 增\n",
    "list.append(5)\n",
    "print('after append:', list)\n",
    "# 删\n",
    "x = list.pop()\n",
    "print('after pop:', list, 'pop:', x)\n",
    "# 改\n",
    "list[0] = 0\n",
    "print('after modify:', list)\n",
    "# 查\n",
    "print('list[1] = ', list[1])"
   ]
  },
  {
   "cell_type": "markdown",
   "id": "ea514a50-8f74-4ae7-8988-ceaeab2a9f3a",
   "metadata": {
    "jp-MarkdownHeadingCollapsed": true
   },
   "source": [
    "#### 2.2.3元组类型\n",
    "- 用于表示有序的元素集合，如 `(1, 2, 3)`, `(\"a\", \"b\", \"c\")`。\n",
    "- 元组是不可变的。但可以相加\n",
    "- 空元组tuple()"
   ]
  },
  {
   "cell_type": "code",
   "execution_count": 98,
   "id": "8b9eda30-576f-4808-a0dd-a799afa1edad",
   "metadata": {},
   "outputs": [
    {
     "name": "stdout",
     "output_type": "stream",
     "text": [
      "('aaa', 'bbb', 'ccc')\n",
      "aaa\n",
      "('aaa', 'bbb', 'ccc', 'ddd')\n"
     ]
    }
   ],
   "source": [
    "tuple = ('aaa', 'bbb', 'ccc')\n",
    "print(tuple)\n",
    "# tuple[0] = 'ddd' 元组错误不支持修改\n",
    "print(tuple[0])\n",
    "tlp2 = ('ddd',)\n",
    "tuple = tuple + tlp2\n",
    "print(tuple)"
   ]
  },
  {
   "cell_type": "markdown",
   "id": "cb0325e4-1ee8-4664-8044-09fc4590ffe3",
   "metadata": {},
   "source": [
    "#### 2.2.4范围对象\n",
    "- 用于表示一个不可变的整数序列，range(start, end, step).常用于循环中，如 `range(5)` 生成从 `0` 到 `4` 的整数序列。"
   ]
  },
  {
   "cell_type": "code",
   "execution_count": 1,
   "id": "55ab5e66-29a9-445f-a159-5d002ef83c0c",
   "metadata": {},
   "outputs": [
    {
     "name": "stdout",
     "output_type": "stream",
     "text": [
      "<class 'range'>\n",
      "range(1, 4)\n",
      "1\n",
      "3\n",
      "5\n",
      "7\n",
      "9\n"
     ]
    }
   ],
   "source": [
    "r = range(1,4)\n",
    "print(type(r))\n",
    "print(r)\n",
    "for i in range(1,10,2):\n",
    "    print(i)"
   ]
  },
  {
   "cell_type": "markdown",
   "id": "11292ef5-642a-4750-8590-875ed8dfb0e7",
   "metadata": {},
   "source": [
    "### **2.3 映射类型（Mapping Types）**：\n"
   ]
  },
  {
   "cell_type": "markdown",
   "id": "db1038bc-906f-434f-bad1-4f2f501aed50",
   "metadata": {
    "jp-MarkdownHeadingCollapsed": true
   },
   "source": [
    "#### 2.3.1 字典类型\n",
    "- 用于表示键值对集合{key:value},key必须唯一，value可以不唯一，如 `{\"name\": \"Alice\", \"age\": 25}`。\n",
    "- 字典的key必须是不可变类型，value是可变的。\n",
    "- 空字典用{}表示"
   ]
  },
  {
   "cell_type": "code",
   "execution_count": 107,
   "id": "bb7c05b5-98d7-46f0-b18e-b7334789fc15",
   "metadata": {},
   "outputs": [
    {
     "name": "stdout",
     "output_type": "stream",
     "text": [
      "<class 'dict'>\n",
      "{'key': 'value', 1: 'a', 2: 'b', 'c': 'ccc'}\n",
      "{'key': 'value', 1: 'a', 2: 'b', 'c': 'ddd'}\n"
     ]
    },
    {
     "data": {
      "text/plain": [
       "{'key': 'value', 1: 'a', 2: 'b', 'c': 'ddd', 'd': 'ddd'}"
      ]
     },
     "execution_count": 107,
     "metadata": {},
     "output_type": "execute_result"
    }
   ],
   "source": [
    "dict = {} # 空集合\n",
    "dict = {'key':'value', 1:'a', 2:'b', 'c':'ccc'}\n",
    "print(type(dict))\n",
    "print(dict)\n",
    "dict['c'] = 'ddd' # value 可变\n",
    "print(dict)\n",
    "dict['d'] = 'ddd' # key 如果不存在可以直接添加\n",
    "dict"
   ]
  },
  {
   "cell_type": "markdown",
   "id": "1ef7390e-dd22-4c7e-b6a7-dfc74ea979dc",
   "metadata": {},
   "source": [
    "### 2.4 **集合类型（Set Types）**："
   ]
  },
  {
   "cell_type": "markdown",
   "id": "aa5ce711-40a0-49f4-8c2b-264af0d02699",
   "metadata": {
    "jp-MarkdownHeadingCollapsed": true
   },
   "source": [
    "#### 2.4.1 集合类型\n",
    "- 用于表示无序且不重复的元素集合，如 `{1, 2, 3}`。\n",
    "- 如果向集合中添加已有元素，会自动去重\n",
    "- 元素的排列顺序却不是固定的\n",
    "- 集合是可变的。\n",
    "- 集合支持逻辑运算：交并补\n",
    "- 从集合中移除不存在的元素会error\n",
    "- 空集合用set()表示"
   ]
  },
  {
   "cell_type": "code",
   "execution_count": 130,
   "id": "c4f05b3b-97f0-4bb2-b2d1-30955840dac7",
   "metadata": {},
   "outputs": [
    {
     "name": "stdout",
     "output_type": "stream",
     "text": [
      "<class 'set'>\n",
      "|: {1, 2, 3, 4}\n",
      "&: {1}\n",
      "^: {2, 3, 4}\n",
      "-: {3}\n"
     ]
    },
    {
     "data": {
      "text/plain": [
       "{4}"
      ]
     },
     "execution_count": 130,
     "metadata": {},
     "output_type": "execute_result"
    }
   ],
   "source": [
    "s1 = set() # 定义空集合\n",
    "print(type(s1))\n",
    "s1.add(1) # 向集合中添加元素\n",
    "s1.add(3)\n",
    "s2 = {1, 2, 4} # 定义带元素的集合\n",
    "# s1.update(s2) # update- 把集合s2中的元素添加到s1中\n",
    "print('|:', s1 | s2) # 并集\n",
    "print('&:', s1 & s2) # 交集\n",
    "print('^:', s1 ^ s2) # 异或(s1和s2不同时有的元素)\n",
    "print('-:', s1 - s2) # s1 独有\n",
    "s2.remove(1) # 移除元素\n",
    "# s2.remove(5) error,没有5这个元素\n",
    "s2.pop() # 随机移除一个元素\n",
    "s2"
   ]
  },
  {
   "cell_type": "markdown",
   "id": "521e2b71-62eb-484b-8ce0-320dca48e4b1",
   "metadata": {
    "jp-MarkdownHeadingCollapsed": true
   },
   "source": [
    "#### 2.4.2 不可变集合类型\n",
    "- 与 `set` 类似，但它是不可变的，如 `frozenset([1, 2, 3])`。"
   ]
  },
  {
   "cell_type": "code",
   "execution_count": 142,
   "id": "3ea6ab99-7ddd-4dda-9b0c-f0cd66233cc7",
   "metadata": {},
   "outputs": [
    {
     "data": {
      "text/plain": [
       "frozenset({1, 2, 3})"
      ]
     },
     "execution_count": 142,
     "metadata": {},
     "output_type": "execute_result"
    }
   ],
   "source": [
    "s = frozenset([1,2,3])\n",
    "s\n",
    "# s.remove(3) error-frozenset元素不可变"
   ]
  },
  {
   "cell_type": "markdown",
   "id": "c5b8a8b4-bb28-48e4-a439-54fe59739c69",
   "metadata": {},
   "source": [
    "### 2.5 **布尔类型（Boolean Type）**：\n",
    "   - `bool`：布尔类型，只有两个值 `True` 和 `False`，用于表示逻辑上的真和假。"
   ]
  },
  {
   "cell_type": "markdown",
   "id": "a836cc71-cfd5-4ce7-876a-2464df62a453",
   "metadata": {},
   "source": [
    "## 3. 迭代器和生成器"
   ]
  },
  {
   "cell_type": "markdown",
   "id": "f5654eea-ee6b-4c31-8e38-c65a5b0e0881",
   "metadata": {},
   "source": [
    "### 迭代器\n",
    "- 迭代器是一个可以记住遍历的位置的对象。\n",
    "- 迭代器对象从集合的第一个元素开始访问，直到所有的元素被访问完结束。迭代器只能往前不会后退。\n",
    "- 迭代器有两个基本的方法：iter() 和 next()。\n",
    "- 字符串，列表或元组对象都可用于创建迭代器"
   ]
  },
  {
   "cell_type": "code",
   "execution_count": 7,
   "id": "9ba7ed14-1e20-4e9b-9454-b141fd8884d1",
   "metadata": {},
   "outputs": [
    {
     "name": "stdout",
     "output_type": "stream",
     "text": [
      "1 2 3 4 5 "
     ]
    }
   ],
   "source": [
    "# 用法一:\n",
    "list = [1, 2, 3, 4, 5]\n",
    "it = iter(list)\n",
    "for i in it:\n",
    "    print(i, end = ' ')\n"
   ]
  },
  {
   "cell_type": "code",
   "execution_count": 9,
   "id": "660d168c-3d3e-4eee-87c7-350668b970d2",
   "metadata": {},
   "outputs": [
    {
     "name": "stdout",
     "output_type": "stream",
     "text": [
      "1 2 3 4 5 没有元素了\n"
     ]
    }
   ],
   "source": [
    "# 用法二：next()\n",
    "list = [1, 2, 3, 4, 5]\n",
    "it = iter(list)\n",
    "\n",
    "while True:\n",
    "    try:\n",
    "        print(next(it), end = ' ')\n",
    "    except StopIteration:\n",
    "        print(\"没有元素了\")\n",
    "        break"
   ]
  },
  {
   "cell_type": "code",
   "execution_count": null,
   "id": "72ed8286-789f-4a3b-be01-c3fc4ebf024b",
   "metadata": {},
   "outputs": [],
   "source": [
    "### 生成器"
   ]
  }
 ],
 "metadata": {
  "kernelspec": {
   "display_name": "Python 3 (ipykernel)",
   "language": "python",
   "name": "python3"
  },
  "language_info": {
   "codemirror_mode": {
    "name": "ipython",
    "version": 3
   },
   "file_extension": ".py",
   "mimetype": "text/x-python",
   "name": "python",
   "nbconvert_exporter": "python",
   "pygments_lexer": "ipython3",
   "version": "3.9.13"
  }
 },
 "nbformat": 4,
 "nbformat_minor": 5
}
